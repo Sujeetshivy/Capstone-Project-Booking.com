{
 "cells": [
  {
   "cell_type": "code",
   "execution_count": 1,
   "id": "0b96d707",
   "metadata": {},
   "outputs": [],
   "source": [
    "import selenium\n",
    "from selenium import webdriver\n",
    "import requests\n",
    "from selenium.common.exceptions import StaleElementReferenceException, NoSuchElementException\n",
    "from selenium.webdriver.common.by import By\n",
    "from selenium.webdriver.support.ui import WebDriverWait\n",
    "from selenium.webdriver.support import expected_conditions as EC\n",
    "from selenium.webdriver.remote.webelement import WebElement\n",
    "from selenium.webdriver.common.action_chains import ActionChains\n",
    "from selenium.webdriver.common.keys import Keys\n",
    "import time\n",
    "import warnings\n",
    "warnings.filterwarnings('ignore')\n",
    "import re"
   ]
  },
  {
   "cell_type": "code",
   "execution_count": 2,
   "id": "e4480e5c",
   "metadata": {},
   "outputs": [],
   "source": [
    "# first connect to the driver\n",
    "driver=webdriver.Chrome(r\"S:\\DS_CLASSES\\FlipRobo\\DS2303\\6. Selenium-WebScrapping\\chromedriver.exe\")\n",
    "\n",
    "# opening the page on selenium automated chrome browser\n",
    "url = f\"https://www.booking.com/index.en-gb.html?aid=397646&label=yho748jc-1DCAEoggI46AdIM1gDaGyIAQGYAQm4ARfIAQzYAQPoAQGIAgGoAgO4Ap3Y96YGwAIB0gIkY2NlMDIyZmItZDdlZi00MWVkLWE5YzUtNmIzNmE1NWI3MDU32AIE4AIB&sid=0cb28093647b47834b4f3a02e11acd13&keep_landing=1&sb_price_type=total&\"\n",
    "driver.get(url)\n",
    "driver.maximize_window()\n",
    "\n",
    "wait = WebDriverWait(driver, 10)\n",
    "popup_element = wait.until(EC.visibility_of_element_located((By.CLASS_NAME, \"c0528ecc22\")))\n",
    "if popup_element.is_displayed():\n",
    "    close_button = popup_element.find_element(By.CLASS_NAME, \"eedba9e88a\")\n",
    "    close_button.click()\n",
    "    time.sleep(3)\n",
    "    \n",
    "# clicking the cities tab\n",
    "cities_tab =driver.find_element(By.XPATH,'//div[1]/ul/li[3][@class=\"footer-navigation-link\"]/a')\n",
    "cities_tab.click()"
   ]
  },
  {
   "cell_type": "code",
   "execution_count": 3,
   "id": "e5426404",
   "metadata": {},
   "outputs": [],
   "source": [
    "# Define the list of city names you're interested in\n",
    "cities_given = [\"Dubai\", \"London\", \"Kuala Lumpur\",\"Manchester\", \"New Delhi\", \"Birmingham\", \"Berlin\",\n",
    "                      \"Sydney\",\"Melbourne\",\"Paris\", \"Tokyo\", \"Toronto\"]\n",
    "\n",
    "# Find all the cities\n",
    "city_name = driver.find_elements(By.XPATH, '//div[@class=\"block_header\"]/h2/a')\n",
    "\n",
    "# Initialize a list to store the city names\n",
    "city_names = []\n",
    "\n",
    "for i in city_name:\n",
    "    citys_name = i.text\n",
    "    # Manipulate the text to extract the city name correctly\n",
    "    citys_name = citys_name.strip('Hotels in ').split(',')[0]\n",
    "    city_names.append(citys_name)"
   ]
  },
  {
   "cell_type": "code",
   "execution_count": 4,
   "id": "fe477c35",
   "metadata": {},
   "outputs": [],
   "source": [
    "# finding the url for cities_of_interest\n",
    "\n",
    "# Initialize a list to store city URLs\n",
    "cities_url = []\n",
    "\n",
    "# Find the URLs for cities of interest\n",
    "for city_name, city_url in zip(city_names, driver.find_elements(By.XPATH, '//div[@class=\"block_header\"]/h2/a')):\n",
    "    if city_name in cities_given:\n",
    "        cities_url.append(city_url.get_attribute('href'))"
   ]
  },
  {
   "cell_type": "code",
   "execution_count": 5,
   "id": "4f6b7b0e",
   "metadata": {},
   "outputs": [
    {
     "data": {
      "text/plain": [
       "['https://www.booking.com/city/ae/dubai.en-gb.html?aid=397646&label=yho748jc-1FCAEoggI46AdIM1gDaGyIAQGYAQm4ARfIAQzYAQHoAQH4AQ2IAgGoAgO4Ap3Y96YGwAIB0gIkY2NlMDIyZmItZDdlZi00MWVkLWE5YzUtNmIzNmE1NWI3MDU32AIG4AIB&sid=e24b4e18270cefc3b994b4d01f5ea385&inac=0&',\n",
       " 'https://www.booking.com/city/gb/london.en-gb.html?aid=397646&label=yho748jc-1FCAEoggI46AdIM1gDaGyIAQGYAQm4ARfIAQzYAQHoAQH4AQ2IAgGoAgO4Ap3Y96YGwAIB0gIkY2NlMDIyZmItZDdlZi00MWVkLWE5YzUtNmIzNmE1NWI3MDU32AIG4AIB&sid=e24b4e18270cefc3b994b4d01f5ea385&inac=0&',\n",
       " 'https://www.booking.com/city/au/sydney.en-gb.html?aid=397646&label=yho748jc-1FCAEoggI46AdIM1gDaGyIAQGYAQm4ARfIAQzYAQHoAQH4AQ2IAgGoAgO4Ap3Y96YGwAIB0gIkY2NlMDIyZmItZDdlZi00MWVkLWE5YzUtNmIzNmE1NWI3MDU32AIG4AIB&sid=e24b4e18270cefc3b994b4d01f5ea385&inac=0&',\n",
       " 'https://www.booking.com/city/au/melbourne.en-gb.html?aid=397646&label=yho748jc-1FCAEoggI46AdIM1gDaGyIAQGYAQm4ARfIAQzYAQHoAQH4AQ2IAgGoAgO4Ap3Y96YGwAIB0gIkY2NlMDIyZmItZDdlZi00MWVkLWE5YzUtNmIzNmE1NWI3MDU32AIG4AIB&sid=e24b4e18270cefc3b994b4d01f5ea385&inac=0&',\n",
       " 'https://www.booking.com/city/fr/paris.en-gb.html?aid=397646&label=yho748jc-1FCAEoggI46AdIM1gDaGyIAQGYAQm4ARfIAQzYAQHoAQH4AQ2IAgGoAgO4Ap3Y96YGwAIB0gIkY2NlMDIyZmItZDdlZi00MWVkLWE5YzUtNmIzNmE1NWI3MDU32AIG4AIB&sid=e24b4e18270cefc3b994b4d01f5ea385&inac=0&',\n",
       " 'https://www.booking.com/city/de/berlin.en-gb.html?aid=397646&label=yho748jc-1FCAEoggI46AdIM1gDaGyIAQGYAQm4ARfIAQzYAQHoAQH4AQ2IAgGoAgO4Ap3Y96YGwAIB0gIkY2NlMDIyZmItZDdlZi00MWVkLWE5YzUtNmIzNmE1NWI3MDU32AIG4AIB&sid=e24b4e18270cefc3b994b4d01f5ea385&inac=0&',\n",
       " 'https://www.booking.com/city/gb/manchester.en-gb.html?aid=397646&label=yho748jc-1FCAEoggI46AdIM1gDaGyIAQGYAQm4ARfIAQzYAQHoAQH4AQ2IAgGoAgO4Ap3Y96YGwAIB0gIkY2NlMDIyZmItZDdlZi00MWVkLWE5YzUtNmIzNmE1NWI3MDU32AIG4AIB&sid=e24b4e18270cefc3b994b4d01f5ea385&inac=0&',\n",
       " 'https://www.booking.com/city/my/kuala-lumpur.en-gb.html?aid=397646&label=yho748jc-1FCAEoggI46AdIM1gDaGyIAQGYAQm4ARfIAQzYAQHoAQH4AQ2IAgGoAgO4Ap3Y96YGwAIB0gIkY2NlMDIyZmItZDdlZi00MWVkLWE5YzUtNmIzNmE1NWI3MDU32AIG4AIB&sid=e24b4e18270cefc3b994b4d01f5ea385&inac=0&',\n",
       " 'https://www.booking.com/city/ca/toronto.en-gb.html?aid=397646&label=yho748jc-1FCAEoggI46AdIM1gDaGyIAQGYAQm4ARfIAQzYAQHoAQH4AQ2IAgGoAgO4Ap3Y96YGwAIB0gIkY2NlMDIyZmItZDdlZi00MWVkLWE5YzUtNmIzNmE1NWI3MDU32AIG4AIB&sid=e24b4e18270cefc3b994b4d01f5ea385&inac=0&',\n",
       " 'https://www.booking.com/city/jp/tokyo.en-gb.html?aid=397646&label=yho748jc-1FCAEoggI46AdIM1gDaGyIAQGYAQm4ARfIAQzYAQHoAQH4AQ2IAgGoAgO4Ap3Y96YGwAIB0gIkY2NlMDIyZmItZDdlZi00MWVkLWE5YzUtNmIzNmE1NWI3MDU32AIG4AIB&sid=e24b4e18270cefc3b994b4d01f5ea385&inac=0&',\n",
       " 'https://www.booking.com/city/gb/birmingham.en-gb.html?aid=397646&label=yho748jc-1FCAEoggI46AdIM1gDaGyIAQGYAQm4ARfIAQzYAQHoAQH4AQ2IAgGoAgO4Ap3Y96YGwAIB0gIkY2NlMDIyZmItZDdlZi00MWVkLWE5YzUtNmIzNmE1NWI3MDU32AIG4AIB&sid=e24b4e18270cefc3b994b4d01f5ea385&inac=0&',\n",
       " 'https://www.booking.com/city/in/new-delhi.en-gb.html?aid=397646&label=yho748jc-1FCAEoggI46AdIM1gDaGyIAQGYAQm4ARfIAQzYAQHoAQH4AQ2IAgGoAgO4Ap3Y96YGwAIB0gIkY2NlMDIyZmItZDdlZi00MWVkLWE5YzUtNmIzNmE1NWI3MDU32AIG4AIB&sid=e24b4e18270cefc3b994b4d01f5ea385&inac=0&']"
      ]
     },
     "execution_count": 5,
     "metadata": {},
     "output_type": "execute_result"
    }
   ],
   "source": [
    "cities_url = cities_url[:12]\n",
    "cities_url"
   ]
  },
  {
   "cell_type": "code",
   "execution_count": 6,
   "id": "1fb7c0a0",
   "metadata": {},
   "outputs": [
    {
     "name": "stdout",
     "output_type": "stream",
     "text": [
      "Stored 'cities_url' (list)\n"
     ]
    }
   ],
   "source": [
    "%store cities_url"
   ]
  },
  {
   "cell_type": "code",
   "execution_count": null,
   "id": "d6087174",
   "metadata": {},
   "outputs": [],
   "source": []
  }
 ],
 "metadata": {
  "kernelspec": {
   "display_name": "Python 3 (ipykernel)",
   "language": "python",
   "name": "python3"
  },
  "language_info": {
   "codemirror_mode": {
    "name": "ipython",
    "version": 3
   },
   "file_extension": ".py",
   "mimetype": "text/x-python",
   "name": "python",
   "nbconvert_exporter": "python",
   "pygments_lexer": "ipython3",
   "version": "3.9.12"
  }
 },
 "nbformat": 4,
 "nbformat_minor": 5
}
